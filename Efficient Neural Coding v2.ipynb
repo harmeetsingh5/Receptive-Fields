{
 "cells": [
  {
   "cell_type": "markdown",
   "metadata": {},
   "source": [
    "# Efficient Coding Demonstrations"
   ]
  },
  {
   "cell_type": "markdown",
   "metadata": {},
   "source": [
    "# This is the Algorithm (ICA) that is used to create the Receptive Fields"
   ]
  },
  {
   "cell_type": "markdown",
   "metadata": {},
   "source": [
    "icatemp = sklearn.decomposition.FastICA(n_components=50) \n",
    "icafit = icatemp.fit(np.transpose(patches_mat))\n",
    "\n",
    "ica_comp = icafit.components_\n",
    "\n",
    "show_patches_mat(np.transpose(ica_comp), 25)"
   ]
  },
  {
   "cell_type": "markdown",
   "metadata": {},
   "source": [
    "This chunk of code will be exactly the same across grayscale and color images; the only difference is a slight change of inputs."
   ]
  },
  {
   "cell_type": "markdown",
   "metadata": {},
   "source": [
    "# The following code defines functions for collecting and displaying patches for grayscale and color images\n",
    "\n",
    "For these intents and purposes just run the code, no need to worry about the details of it, this will take some time to run\n"
   ]
  },
  {
   "cell_type": "code",
   "execution_count": 13,
   "metadata": {},
   "outputs": [],
   "source": [
    "# packages used among several sections\n",
    "\n",
    "import PIL.Image\n",
    "import numpy as np\n",
    "import pylab as py\n",
    "import cv2\n",
    "from PIL import Image\n",
    "import sklearn.decomposition"
   ]
  },
  {
   "cell_type": "code",
   "execution_count": 14,
   "metadata": {
    "scrolled": true
   },
   "outputs": [
    {
     "name": "stdout",
     "output_type": "stream",
     "text": [
      "7  percent complete\n",
      "15  percent complete\n",
      "23  percent complete\n",
      "30  percent complete\n",
      "38  percent complete\n",
      "46  percent complete\n",
      "53  percent complete\n",
      "61  percent complete\n",
      "69  percent complete\n",
      "76  percent complete\n",
      "84  percent complete\n",
      "92  percent complete\n",
      "\n",
      "shape of the extracted image patch data: (192, 100000)\n",
      "20  percent complete\n",
      "40  percent complete\n",
      "60  percent complete\n",
      "80  percent complete\n",
      "\n",
      "shape of the extracted image patch data: (192, 100000)\n"
     ]
    }
   ],
   "source": [
    "#grayscale\n",
    "def collect_natural_patches_g(num_patches = 100000, patch_width = 8):\n",
    "  \"\"\" collects image patches\n",
    "  the natural images are from a specific folder of 13 .tiff files\"\"\"\n",
    "\n",
    "  max_tries = num_patches * 50\n",
    "  image_width = 200\n",
    "  \n",
    "  img_first_patch = 0 # the first patch number accepted from an image\n",
    "  img_first_try = 0 # the first attempt to take a patch from the image\n",
    "  patch_cnt = 0 # number of collected patches\n",
    "  try_cnt = 0 # number of attempted collected patches\n",
    "  num_pixels = patch_width * patch_width\n",
    "\n",
    "  patch_sample = np.zeros([patch_width,patch_width],float)\n",
    "  patch = np.zeros([num_pixels,1],float)\n",
    "  \n",
    "  img_patches = np.zeros([num_pixels,num_patches],float)\n",
    "\n",
    "  # change the image sampled from\n",
    "  nat_img_cnt = 1  \n",
    "  image = PIL.Image.open('natural_images_grayscale/' + str(nat_img_cnt) + '.tiff')\n",
    "  image = np.asarray(image, 'double').transpose()  \n",
    "\n",
    "  # normalizing the image\n",
    "  image -= image.mean()\n",
    "  image /= image.std()\n",
    "      \n",
    "  # collect the patches\n",
    "  while patch_cnt < num_patches and try_cnt < max_tries:\n",
    "    try_cnt += 1  # number of total patches attempted\n",
    "\n",
    "    if (try_cnt - img_first_try) > max_tries/13 or \\\n",
    "      (patch_cnt - img_first_patch) > num_patches/13:\n",
    "      # change the image sampled from\n",
    "      nat_img_cnt += 1\n",
    "      image = PIL.Image.open('natural_images_grayscale/' + str(nat_img_cnt) + '.tiff')\n",
    "      image = np.asarray(image, 'double').transpose()        \n",
    "      # normalizing the image\n",
    "      image -= image.mean()\n",
    "      image /= image.std()\n",
    "      \n",
    "      img_first_patch = patch_cnt\n",
    "      img_first_try = try_cnt\n",
    "    \n",
    "      # update on every switch of images\n",
    "      print (int(100 * float(patch_cnt)/num_patches),' percent complete')\n",
    "    \n",
    "    px = np.random.randint(0,image_width - patch_width)\n",
    "    py = np.random.randint(0,image_width - patch_width)\n",
    "        \n",
    "    patch_sample = image[px:px+patch_width,py:py+patch_width].copy()\n",
    "    patch_std = patch_sample.std()\n",
    "    \n",
    "    if patch_std > 0.0: # > 0 to remove blank/uninteresting patches for speed\n",
    "      # create the patch vector     \n",
    "      patch = np.reshape(patch_sample, num_pixels)     \n",
    "      patch = patch - np.mean(patch)         \n",
    "      img_patches[:,patch_cnt] = patch.copy()\n",
    "      patch_cnt += 1\n",
    "  return img_patches\n",
    "        \n",
    "patches_mat_g = collect_natural_patches_g(num_patches = 100000, patch_width = 8)\n",
    "print('\\nshape of the extracted image patch data:', patches_mat.shape)\n",
    "\n",
    "\n",
    "\n",
    "#color\n",
    "def collect_natural_patches_c(num_patches = 100000, patch_width = 8):\n",
    "  \"\"\" collects image patches\n",
    "  the natural images are from a specific folder of 13 .tiff files\"\"\"\n",
    "\n",
    "  max_tries = num_patches * 50\n",
    "  image_width = 200\n",
    "  \n",
    "  img_first_patch = 0 # the first patch number accepted from an image\n",
    "  img_first_try = 0 # the first attempt to take a patch from the image\n",
    "  patch_cnt = 0 # number of collected patches\n",
    "  try_cnt = 0 # number of attempted collected patches\n",
    "  num_pixels = 3 * patch_width * patch_width\n",
    "\n",
    "  patch_sample = np.zeros([3,patch_width,patch_width],float)\n",
    "  patch = np.zeros([num_pixels],float)\n",
    "  \n",
    "  img_patches = np.zeros([num_pixels,num_patches],float)\n",
    "\n",
    "  # change the image sampled from\n",
    "  nat_img_cnt = 1  \n",
    "  image = PIL.Image.open('natural_color/' + str(nat_img_cnt) + '.tiff')\n",
    "  image = np.asarray(image, 'double').transpose() \n",
    "  image = image[0:3,:,:]\n",
    "  # normalizing the image\n",
    "  image -= image.mean()\n",
    "  image /= image.std()\n",
    "  \n",
    "  \n",
    "  # collect the patches\n",
    "  while patch_cnt < num_patches and try_cnt < max_tries:\n",
    "    try_cnt += 1  # number of total patches attempted\n",
    "\n",
    "    if (try_cnt - img_first_try) > max_tries/5 or \\\n",
    "      (patch_cnt - img_first_patch) > num_patches/5:\n",
    "      # change the image sampled from\n",
    "      nat_img_cnt += 1\n",
    "      image = PIL.Image.open('natural_color/' + str(nat_img_cnt) + '.tiff')\n",
    "      \n",
    "      image = np.asarray(image, 'double').transpose() \n",
    "      image = image[0:3,:,:]\n",
    "      \n",
    "      \n",
    "      \n",
    "      image -= image.mean()\n",
    "      image /= image.std()\n",
    "      \n",
    "      img_first_patch = patch_cnt\n",
    "      img_first_try = try_cnt\n",
    "    \n",
    "      # update on every switch of images\n",
    "      print (int(100 * float(patch_cnt)/num_patches),' percent complete')\n",
    "    \n",
    "    px = np.random.randint(0,image_width - patch_width)\n",
    "    py = np.random.randint(0,image_width - patch_width)\n",
    "        \n",
    "    patch_sample = image[:,px:px+patch_width,py:py+patch_width].copy()\n",
    "    \n",
    "    patch_std = patch_sample.std()\n",
    "    \n",
    "    if patch_std > 0.0: # > 0 to remove blank/uninteresting patches for speed\n",
    "      # create the patch vector     \n",
    "      patch = np.reshape(patch_sample, num_pixels)   \n",
    "      patch = patch - np.mean(patch)         \n",
    "      img_patches[:,patch_cnt] = patch.copy()\n",
    "      patch_cnt += 1\n",
    "  return img_patches\n",
    "        \n",
    "patches_mat_c = collect_natural_patches_c(num_patches = 100000, patch_width = 8)\n",
    "print('\\nshape of the extracted image patch data:', patches_mat.shape)\n",
    "\n",
    "\n",
    "\n",
    "def show_patches_mat_g(pre_patches, show_patch_num = 16, display=True):\n",
    "  \"\"\" this function generates a 2D array to display image patches (assuming square) \"\"\"\n",
    "  \n",
    "  patches = pre_patches\n",
    "    \n",
    "  tot_patches = patches.shape[1]\n",
    "  data_dim = patches.shape[0]\n",
    "  patch_width = int(np.round(np.sqrt(data_dim)))\n",
    "  \n",
    "  # extract show_patch_num patches\n",
    "  disp_patch = np.zeros([data_dim, show_patch_num], float)\n",
    "  for i in range(0,show_patch_num):\n",
    "    patch_i = i * tot_patches // show_patch_num\n",
    "  \n",
    "    patch = patches[:,patch_i].copy()\n",
    "    pmax  = patch.max()\n",
    "    pmin = patch.min()\n",
    "    # fix patch range from min to max to 0 to 1\n",
    "    if pmax > pmin: \n",
    "      patch = (patch - pmin) / (pmax - pmin)\n",
    "    disp_patch[:,i] = patch.copy()\n",
    "\n",
    "  bw = 5    # border width\n",
    "  pw = patch_width\n",
    "  \n",
    "  patches_y = int(np.sqrt(show_patch_num))\n",
    "  patches_x = int(np.ceil(float(show_patch_num) / patches_y))\n",
    "  patch_img = disp_patch.max() * np.ones([(pw + bw) * patches_x - bw,\n",
    "    patches_y * (pw + bw) - bw], float)\n",
    "  for i in range(0,show_patch_num): \n",
    "    y_i = i // patches_y\n",
    "    x_i = i % patches_y\n",
    "    \n",
    "    reshaped = disp_patch[:,i].reshape((pw,pw))\n",
    "    full_patch = np.zeros([pw, pw], float)\n",
    "    full_patch[0:pw,:] = reshaped[:,:].copy()\n",
    "    patch_img[x_i*(pw+bw):x_i*(pw+bw)+pw,y_i*(pw+bw):y_i*(pw+bw)+pw] = full_patch\n",
    "  \n",
    "  if display:\n",
    "    py.bone()\n",
    "    py.imshow(patch_img.T, interpolation='nearest')\n",
    "    py.axis('off')\n",
    "  return\n",
    "\n",
    "\n",
    "\n",
    "\n",
    "\n",
    "\n",
    "def show_patches_mat_c(pre_patches, show_patch_num = 16, display=True):\n",
    "  \"\"\" this function generates a 2D array to display image patches (assuming square) \"\"\"\n",
    "  \n",
    "  patches = pre_patches\n",
    "    \n",
    "  tot_patches = patches.shape[1]\n",
    "  data_dim = patches.shape[0]\n",
    "  patch_width = int(np.round(np.sqrt(data_dim))) - 6\n",
    "  \n",
    "  # extract show_patch_num patches\n",
    "  disp_patch = np.zeros([data_dim, show_patch_num], float)\n",
    "  for i in range(0,show_patch_num):\n",
    "    patch_i = i * tot_patches // show_patch_num\n",
    "  \n",
    "    patch = patches[:,patch_i].copy()\n",
    "    pmax  = patch.max()\n",
    "    pmin = patch.min()\n",
    "    # fix patch range from min to max to 0 to 1\n",
    "    if pmax > pmin: \n",
    "      patch = (patch - pmin) / (pmax - pmin)\n",
    "    disp_patch[:,i] = patch.copy()\n",
    "\n",
    "  bw = 5    # border width\n",
    "  pw = patch_width\n",
    "  \n",
    "  patches_y = int(np.sqrt(show_patch_num))\n",
    "  patches_x = int(np.ceil(float(show_patch_num) / patches_y))\n",
    "  patch_img = disp_patch.max() * np.ones([3,(pw + bw) * patches_x - bw,\n",
    "    patches_y * (pw + bw) - bw], float)\n",
    "  for i in range(0,show_patch_num): \n",
    "    y_i = i // patches_y\n",
    "    x_i = i % patches_y \n",
    "\n",
    "    reshaped = disp_patch[:,i].reshape((3,8,8))\n",
    "    full_patch = np.zeros([3, pw, pw], float)\n",
    "    full_patch[0:3,0:8,0:8] = reshaped[:,:,:].copy()\n",
    "    patch_img[:,x_i*(pw+bw):x_i*(pw+bw)+pw,y_i*(pw+bw):y_i*(pw+bw)+pw] = full_patch\n",
    "  \n",
    "  if display:\n",
    "    \n",
    "    py.imshow(patch_img[:,:,:].T, interpolation='nearest')\n",
    "    py.axis('off')\n",
    "  return"
   ]
  },
  {
   "cell_type": "markdown",
   "metadata": {},
   "source": [
    "# Now we can take a look at some of the 8x8 pixel patches we collected from our images\n",
    "\n",
    "First lets take a look at some of our grayscale images"
   ]
  },
  {
   "cell_type": "code",
   "execution_count": 15,
   "metadata": {},
   "outputs": [
    {
     "name": "stdout",
     "output_type": "stream",
     "text": [
      "7  percent complete\n",
      "15  percent complete\n",
      "23  percent complete\n",
      "30  percent complete\n",
      "38  percent complete\n",
      "46  percent complete\n",
      "53  percent complete\n",
      "61  percent complete\n",
      "69  percent complete\n",
      "76  percent complete\n",
      "84  percent complete\n",
      "92  percent complete\n"
     ]
    },
    {
     "data": {
      "image/png": "[encoded data removed]",
      "text/plain": [
       "<matplotlib.figure.Figure at 0x16baa62e2e8>"
      ]
     },
     "metadata": {},
     "output_type": "display_data"
    }
   ],
   "source": [
    "collect_natural_patches_g(num_patches = 100000, patch_width = 8)\n",
    "show_patches_mat_g(patches_mat_g)"
   ]
  },
  {
   "cell_type": "markdown",
   "metadata": {},
   "source": [
    "Now lets look at some color images"
   ]
  },
  {
   "cell_type": "code",
   "execution_count": 16,
   "metadata": {},
   "outputs": [
    {
     "name": "stdout",
     "output_type": "stream",
     "text": [
      "20  percent complete\n",
      "40  percent complete\n",
      "60  percent complete\n",
      "80  percent complete\n"
     ]
    },
    {
     "data": {
      "image/png": "[encoded data removed]",
      "text/plain": [
       "<matplotlib.figure.Figure at 0x16baaa25ef0>"
      ]
     },
     "metadata": {},
     "output_type": "display_data"
    }
   ],
   "source": [
    "collect_natural_patches_c(num_patches = 100000, patch_width = 8)\n",
    "show_patches_mat_c(patches_mat_c)"
   ]
  },
  {
   "cell_type": "raw",
   "metadata": {},
   "source": []
  },
  {
   "cell_type": "markdown",
   "metadata": {},
   "source": [
    "# To Produce filters for grayscale and color images we can take the patches we just generated and run them through ICA algorithm which we saw at the top of the notebook\n",
    "\n",
    "It is important to note that ICA works the same for both forms of input"
   ]
  },
  {
   "cell_type": "code",
   "execution_count": 20,
   "metadata": {},
   "outputs": [
    {
     "data": {
      "image/png": "[encoded data removed]",
      "text/plain": [
       "<matplotlib.figure.Figure at 0x16b80046208>"
      ]
     },
     "metadata": {},
     "output_type": "display_data"
    }
   ],
   "source": [
    "icatemp_g = sklearn.decomposition.FastICA(n_components=50) # note, sensitive to n_components\n",
    "icafit_g = icatemp_g.fit(np.transpose(patches_mat_g))\n",
    "\n",
    "ica_comp_g = icafit_g.components_\n",
    "\n",
    "# print('shape of the ica component matrix: ',ica_comp.shape)\n",
    "\n",
    "show_patches_mat_g(np.transpose(ica_comp_g), 25)"
   ]
  },
  {
   "cell_type": "code",
   "execution_count": 22,
   "metadata": {},
   "outputs": [
    {
     "data": {
      "image/png": "[encoded data removed]",
      "text/plain": [
       "<matplotlib.figure.Figure at 0x16baaec88d0>"
      ]
     },
     "metadata": {},
     "output_type": "display_data"
    }
   ],
   "source": [
    "icatemp_c = sklearn.decomposition.FastICA(n_components=50) # note, sensitive to n_components\n",
    "icafit_c = icatemp_c.fit(np.transpose(patches_mat_c))\n",
    "\n",
    "ica_comp_c = icafit_c.components_\n",
    "\n",
    "show_patches_mat_c(np.transpose(ica_comp_c), 25)"
   ]
  },
  {
   "cell_type": "code",
   "execution_count": null,
   "metadata": {},
   "outputs": [],
   "source": []
  }
 ],
 "metadata": {
  "kernelspec": {
   "display_name": "Python 3",
   "language": "python",
   "name": "python3"
  },
  "language_info": {
   "codemirror_mode": {
    "name": "ipython",
    "version": 3
   },
   "file_extension": ".py",
   "mimetype": "text/x-python",
   "name": "python",
   "nbconvert_exporter": "python",
   "pygments_lexer": "ipython3",
   "version": "3.6.4"
  }
 },
 "nbformat": 4,
 "nbformat_minor": 2
}
