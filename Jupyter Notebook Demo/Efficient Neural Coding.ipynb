{
 "cells": [
  {
   "cell_type": "markdown",
   "metadata": {},
   "source": [
    "# Efficient Coding Demonstrations\n",
    "\n",
    "Part One: Collecting the natural patches based on input type (grayscale, color, video/sound???) for the algorithm\n",
    "    \n",
    "    A. Grayscale Images\n",
    "    B. Colored Images\n",
    "    ....\n",
    "    \n",
    "Part Two: Running the ICA algorithm\n",
    "\n",
    "Part Three: Examples vs. Non-examples"
   ]
  },
  {
   "cell_type": "code",
   "execution_count": 2,
   "metadata": {},
   "outputs": [],
   "source": [
    "# packages used among several sections\n",
    "\n",
    "import PIL.Image\n",
    "import numpy as np\n",
    "import pylab as py\n",
    "import cv2\n",
    "from PIL import Image\n",
    "import sklearn.decomposition"
   ]
  },
  {
   "cell_type": "markdown",
   "metadata": {},
   "source": [
    "# Part One: Collecting the natural patches based on input type"
   ]
  },
  {
   "cell_type": "markdown",
   "metadata": {},
   "source": [
    "#  A. Grayscale Images"
   ]
  },
  {
   "cell_type": "code",
   "execution_count": 3,
   "metadata": {},
   "outputs": [
    {
     "name": "stdout",
     "output_type": "stream",
     "text": [
      "7  percent complete\n",
      "15  percent complete\n",
      "23  percent complete\n",
      "30  percent complete\n",
      "38  percent complete\n",
      "46  percent complete\n",
      "53  percent complete\n",
      "61  percent complete\n",
      "69  percent complete\n",
      "76  percent complete\n",
      "84  percent complete\n",
      "92  percent complete\n",
      "\n",
      "shape of the extracted image patch data: (64, 100000)\n"
     ]
    }
   ],
   "source": [
    "def collect_natural_patches(num_patches = 100000, patch_width = 8):\n",
    "  \"\"\" collects image patches\n",
    "  the natural images are from a specific folder of 13 .tiff files\"\"\"\n",
    "\n",
    "  max_tries = num_patches * 50\n",
    "  image_width = 200\n",
    "  \n",
    "  img_first_patch = 0 # the first patch number accepted from an image\n",
    "  img_first_try = 0 # the first attempt to take a patch from the image\n",
    "  patch_cnt = 0 # number of collected patches\n",
    "  try_cnt = 0 # number of attempted collected patches\n",
    "  num_pixels = patch_width * patch_width\n",
    "\n",
    "  patch_sample = np.zeros([patch_width,patch_width],float)\n",
    "  patch = np.zeros([num_pixels,1],float)\n",
    "  \n",
    "  img_patches = np.zeros([num_pixels,num_patches],float)\n",
    "\n",
    "  # change the image sampled from\n",
    "  nat_img_cnt = 1  \n",
    "  image = PIL.Image.open('natural_images_grayscale/' + str(nat_img_cnt) + '.tiff')\n",
    "  image = np.asarray(image, 'double').transpose()  \n",
    "\n",
    "  # normalizing the image\n",
    "  image -= image.mean()\n",
    "  image /= image.std()\n",
    "      \n",
    "  # collect the patches\n",
    "  while patch_cnt < num_patches and try_cnt < max_tries:\n",
    "    try_cnt += 1  # number of total patches attempted\n",
    "\n",
    "    if (try_cnt - img_first_try) > max_tries/13 or \\\n",
    "      (patch_cnt - img_first_patch) > num_patches/13:\n",
    "      # change the image sampled from\n",
    "      nat_img_cnt += 1\n",
    "      image = PIL.Image.open('natural_images_grayscale/' + str(nat_img_cnt) + '.tiff')\n",
    "      image = np.asarray(image, 'double').transpose()        \n",
    "      # normalizing the image\n",
    "      image -= image.mean()\n",
    "      image /= image.std()\n",
    "      \n",
    "      img_first_patch = patch_cnt\n",
    "      img_first_try = try_cnt\n",
    "    \n",
    "      # update on every switch of images\n",
    "      print (int(100 * float(patch_cnt)/num_patches),' percent complete')\n",
    "    \n",
    "    px = np.random.randint(0,image_width - patch_width)\n",
    "    py = np.random.randint(0,image_width - patch_width)\n",
    "        \n",
    "    patch_sample = image[px:px+patch_width,py:py+patch_width].copy()\n",
    "    patch_std = patch_sample.std()\n",
    "    \n",
    "    if patch_std > 0.0: # > 0 to remove blank/uninteresting patches for speed\n",
    "      # create the patch vector     \n",
    "      patch = np.reshape(patch_sample, num_pixels)     \n",
    "      patch = patch - np.mean(patch)         \n",
    "      img_patches[:,patch_cnt] = patch.copy()\n",
    "      patch_cnt += 1\n",
    "  return img_patches\n",
    "        \n",
    "patches_mat = collect_natural_patches(num_patches = 100000, patch_width = 8)\n",
    "print('\\nshape of the extracted image patch data:', patches_mat.shape)"
   ]
  },
  {
   "cell_type": "code",
   "execution_count": 4,
   "metadata": {},
   "outputs": [
    {
     "data": {
      "image/png": "[encoded data removed]",
      "text/plain": [
       "<matplotlib.figure.Figure at 0x2592fb4c4e0>"
      ]
     },
     "metadata": {},
     "output_type": "display_data"
    }
   ],
   "source": [
    "def show_patches_mat(pre_patches, show_patch_num = 16, display=True):\n",
    "  \"\"\" this function generates a 2D array to display image patches (assuming square) \"\"\"\n",
    "  \n",
    "  patches = pre_patches\n",
    "    \n",
    "  tot_patches = patches.shape[1]\n",
    "  data_dim = patches.shape[0]\n",
    "  patch_width = int(np.round(np.sqrt(data_dim)))\n",
    "  \n",
    "  # extract show_patch_num patches\n",
    "  disp_patch = np.zeros([data_dim, show_patch_num], float)\n",
    "  for i in range(0,show_patch_num):\n",
    "    patch_i = i * tot_patches // show_patch_num\n",
    "  \n",
    "    patch = patches[:,patch_i].copy()\n",
    "    pmax  = patch.max()\n",
    "    pmin = patch.min()\n",
    "    # fix patch range from min to max to 0 to 1\n",
    "    if pmax > pmin: \n",
    "      patch = (patch - pmin) / (pmax - pmin)\n",
    "    disp_patch[:,i] = patch.copy()\n",
    "\n",
    "  bw = 5    # border width\n",
    "  pw = patch_width\n",
    "  \n",
    "  patches_y = int(np.sqrt(show_patch_num))\n",
    "  patches_x = int(np.ceil(float(show_patch_num) / patches_y))\n",
    "  patch_img = disp_patch.max() * np.ones([(pw + bw) * patches_x - bw,\n",
    "    patches_y * (pw + bw) - bw], float)\n",
    "  for i in range(0,show_patch_num): \n",
    "    y_i = i // patches_y\n",
    "    x_i = i % patches_y\n",
    "\n",
    "    reshaped = disp_patch[:,i].reshape((pw,pw))\n",
    "    full_patch = np.zeros([pw, pw], float)\n",
    "    full_patch[0:pw,:] = reshaped[:,:].copy()\n",
    "    patch_img[x_i*(pw+bw):x_i*(pw+bw)+pw,y_i*(pw+bw):y_i*(pw+bw)+pw] = full_patch\n",
    "  \n",
    "  if display:\n",
    "    py.bone()\n",
    "    py.imshow(patch_img.T, interpolation='nearest')\n",
    "    py.axis('off')\n",
    "  return\n",
    "\n",
    "show_patches_mat(patches_mat)"
   ]
  },
  {
   "cell_type": "markdown",
   "metadata": {},
   "source": [
    "#  B. Colored Images"
   ]
  },
  {
   "cell_type": "code",
   "execution_count": null,
   "metadata": {},
   "outputs": [],
   "source": []
  },
  {
   "cell_type": "markdown",
   "metadata": {},
   "source": [
    "#  C. Video"
   ]
  },
  {
   "cell_type": "code",
   "execution_count": null,
   "metadata": {},
   "outputs": [],
   "source": []
  },
  {
   "cell_type": "markdown",
   "metadata": {},
   "source": [
    "#  D. Audio"
   ]
  },
  {
   "cell_type": "code",
   "execution_count": null,
   "metadata": {},
   "outputs": [],
   "source": []
  },
  {
   "cell_type": "markdown",
   "metadata": {},
   "source": [
    "#  Part Two: Running the ICA Algorithm"
   ]
  },
  {
   "cell_type": "code",
   "execution_count": null,
   "metadata": {},
   "outputs": [],
   "source": []
  },
  {
   "cell_type": "markdown",
   "metadata": {},
   "source": [
    "#  Part Three: Examples vs. Non-examples"
   ]
  }
 ],
 "metadata": {
  "kernelspec": {
   "display_name": "Python 3",
   "language": "python",
   "name": "python3"
  },
  "language_info": {
   "codemirror_mode": {
    "name": "ipython",
    "version": 3
   },
   "file_extension": ".py",
   "mimetype": "text/x-python",
   "name": "python",
   "nbconvert_exporter": "python",
   "pygments_lexer": "ipython3",
   "version": "3.6.4"
  }
 },
 "nbformat": 4,
 "nbformat_minor": 2
}
