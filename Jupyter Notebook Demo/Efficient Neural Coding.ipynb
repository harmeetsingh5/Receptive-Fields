{
 "cells": [
  {
   "cell_type": "markdown",
   "metadata": {},
   "source": [
    "# Efficient Coding Demonstrations\n",
    "\n",
    "Part One: Collecting the natural patches based on input type (grayscale, color, video/sound???) for the algorithm\n",
    "    \n",
    "    A. Grayscale Images\n",
    "    B. Colored Images\n",
    "    ....\n",
    "    \n",
    "Part Two: Running the ICA algorithm\n",
    "\n",
    "Part Three: Examples vs. Non-examples"
   ]
  },
  {
   "cell_type": "code",
   "execution_count": 1,
   "metadata": {},
   "outputs": [],
   "source": [
    "# packages used among several sections\n",
    "\n",
    "import PIL.Image\n",
    "import numpy as np\n",
    "import pylab as py\n",
    "import cv2\n",
    "from PIL import Image\n",
    "import sklearn.decomposition"
   ]
  },
  {
   "cell_type": "markdown",
   "metadata": {},
   "source": [
    "# Part One: Collecting the natural patches based on input type"
   ]
  },
  {
   "cell_type": "markdown",
   "metadata": {},
   "source": [
    "#  A. Grayscale Images"
   ]
  },
  {
   "cell_type": "code",
   "execution_count": 3,
   "metadata": {},
   "outputs": [
    {
     "name": "stdout",
     "output_type": "stream",
     "text": [
      "7  percent complete\n",
      "15  percent complete\n",
      "23  percent complete\n",
      "30  percent complete\n",
      "38  percent complete\n",
      "46  percent complete\n",
      "53  percent complete\n",
      "61  percent complete\n",
      "69  percent complete\n",
      "76  percent complete\n",
      "84  percent complete\n",
      "92  percent complete\n",
      "\n",
      "shape of the extracted image patch data: (64, 100000)\n"
     ]
    }
   ],
   "source": [
    "def collect_natural_patches(num_patches = 100000, patch_width = 8):\n",
    "  \"\"\" collects image patches\n",
    "  the natural images are from a specific folder of 13 .tiff files\"\"\"\n",
    "\n",
    "  max_tries = num_patches * 50\n",
    "  image_width = 200\n",
    "  \n",
    "  img_first_patch = 0 # the first patch number accepted from an image\n",
    "  img_first_try = 0 # the first attempt to take a patch from the image\n",
    "  patch_cnt = 0 # number of collected patches\n",
    "  try_cnt = 0 # number of attempted collected patches\n",
    "  num_pixels = patch_width * patch_width\n",
    "\n",
    "  patch_sample = np.zeros([patch_width,patch_width],float)\n",
    "  patch = np.zeros([num_pixels,1],float)\n",
    "  \n",
    "  img_patches = np.zeros([num_pixels,num_patches],float)\n",
    "\n",
    "  # change the image sampled from\n",
    "  nat_img_cnt = 1  \n",
    "  image = PIL.Image.open('natural_images_grayscale/' + str(nat_img_cnt) + '.tiff')\n",
    "  image = np.asarray(image, 'double').transpose()  \n",
    "\n",
    "  # normalizing the image\n",
    "  image -= image.mean()\n",
    "  image /= image.std()\n",
    "      \n",
    "  # collect the patches\n",
    "  while patch_cnt < num_patches and try_cnt < max_tries:\n",
    "    try_cnt += 1  # number of total patches attempted\n",
    "\n",
    "    if (try_cnt - img_first_try) > max_tries/13 or \\\n",
    "      (patch_cnt - img_first_patch) > num_patches/13:\n",
    "      # change the image sampled from\n",
    "      nat_img_cnt += 1\n",
    "      image = PIL.Image.open('natural_images_grayscale/' + str(nat_img_cnt) + '.tiff')\n",
    "      image = np.asarray(image, 'double').transpose()        \n",
    "      # normalizing the image\n",
    "      image -= image.mean()\n",
    "      image /= image.std()\n",
    "      \n",
    "      img_first_patch = patch_cnt\n",
    "      img_first_try = try_cnt\n",
    "    \n",
    "      # update on every switch of images\n",
    "      print (int(100 * float(patch_cnt)/num_patches),' percent complete')\n",
    "    \n",
    "    px = np.random.randint(0,image_width - patch_width)\n",
    "    py = np.random.randint(0,image_width - patch_width)\n",
    "        \n",
    "    patch_sample = image[px:px+patch_width,py:py+patch_width].copy()\n",
    "    patch_std = patch_sample.std()\n",
    "    \n",
    "    if patch_std > 0.0: # > 0 to remove blank/uninteresting patches for speed\n",
    "      # create the patch vector     \n",
    "      patch = np.reshape(patch_sample, num_pixels)     \n",
    "      patch = patch - np.mean(patch)         \n",
    "      img_patches[:,patch_cnt] = patch.copy()\n",
    "      patch_cnt += 1\n",
    "  return img_patches\n",
    "        \n",
    "patches_mat = collect_natural_patches(num_patches = 100000, patch_width = 8)\n",
    "print('\\nshape of the extracted image patch data:', patches_mat.shape)"
   ]
  },
  {
   "cell_type": "code",
   "execution_count": 5,
   "metadata": {},
   "outputs": [
    {
     "data": {
      "image/png": "[encoded data removed]",
      "text/plain": [
       "<matplotlib.figure.Figure at 0x159337b72e8>"
      ]
     },
     "metadata": {},
     "output_type": "display_data"
    }
   ],
   "source": [
    "def show_patches_mat(pre_patches, show_patch_num = 16, display=True):\n",
    "  \"\"\" this function generates a 2D array to display image patches (assuming square) \"\"\"\n",
    "  \n",
    "  patches = pre_patches\n",
    "    \n",
    "  tot_patches = patches.shape[1]\n",
    "  data_dim = patches.shape[0]\n",
    "  patch_width = int(np.round(np.sqrt(data_dim)))\n",
    "  \n",
    "  # extract show_patch_num patches\n",
    "  disp_patch = np.zeros([data_dim, show_patch_num], float)\n",
    "  for i in range(0,show_patch_num):\n",
    "    patch_i = i * tot_patches // show_patch_num\n",
    "  \n",
    "    patch = patches[:,patch_i].copy()\n",
    "    pmax  = patch.max()\n",
    "    pmin = patch.min()\n",
    "    # fix patch range from min to max to 0 to 1\n",
    "    if pmax > pmin: \n",
    "      patch = (patch - pmin) / (pmax - pmin)\n",
    "    disp_patch[:,i] = patch.copy()\n",
    "\n",
    "  bw = 5    # border width\n",
    "  pw = patch_width\n",
    "  \n",
    "  patches_y = int(np.sqrt(show_patch_num))\n",
    "  patches_x = int(np.ceil(float(show_patch_num) / patches_y))\n",
    "  patch_img = disp_patch.max() * np.ones([(pw + bw) * patches_x - bw,\n",
    "    patches_y * (pw + bw) - bw], float)\n",
    "  for i in range(0,show_patch_num): \n",
    "    y_i = i // patches_y\n",
    "    x_i = i % patches_y\n",
    "\n",
    "    reshaped = disp_patch[:,i].reshape((pw,pw))\n",
    "    full_patch = np.zeros([pw, pw], float)\n",
    "    full_patch[0:pw,:] = reshaped[:,:].copy()\n",
    "    patch_img[x_i*(pw+bw):x_i*(pw+bw)+pw,y_i*(pw+bw):y_i*(pw+bw)+pw] = full_patch\n",
    "  \n",
    "  if display:\n",
    "    py.bone()\n",
    "    py.imshow(patch_img.T, interpolation='nearest')\n",
    "    py.axis('off')\n",
    "  return\n",
    "\n",
    "show_patches_mat(patches_mat)"
   ]
  },
  {
   "cell_type": "markdown",
   "metadata": {},
   "source": [
    "#  B. Colored Images"
   ]
  },
  {
   "cell_type": "code",
   "execution_count": 8,
   "metadata": {},
   "outputs": [
    {
     "name": "stdout",
     "output_type": "stream",
     "text": [
      "20  percent complete\n",
      "40  percent complete\n",
      "60  percent complete\n",
      "80  percent complete\n",
      "\n",
      "shape of the extracted image patch data: (192, 1000)\n"
     ]
    }
   ],
   "source": [
    "def collect_natural_patches(num_patches = 100000, patch_width = 8):\n",
    "  \"\"\" collects image patches\n",
    "  the natural images are from a specific folder of 13 .tiff files\"\"\"\n",
    "\n",
    "  max_tries = num_patches * 50\n",
    "  image_width = 200\n",
    "  \n",
    "  img_first_patch = 0 # the first patch number accepted from an image\n",
    "  img_first_try = 0 # the first attempt to take a patch from the image\n",
    "  patch_cnt = 0 # number of collected patches\n",
    "  try_cnt = 0 # number of attempted collected patches\n",
    "  num_pixels = 3 * patch_width * patch_width\n",
    "\n",
    "  patch_sample = np.zeros([3,patch_width,patch_width],float)\n",
    "  patch = np.zeros([num_pixels],float)\n",
    "  \n",
    "  img_patches = np.zeros([num_pixels,num_patches],float)\n",
    "\n",
    "  # change the image sampled from\n",
    "  nat_img_cnt = 1  \n",
    "  image = PIL.Image.open('natural_color/' + str(nat_img_cnt) + '.tiff')\n",
    "  image = np.asarray(image, 'double').transpose() \n",
    "  image = image[0:3,:,:]\n",
    "  # normalizing the image\n",
    "  image -= image.mean()\n",
    "  image /= image.std()\n",
    "  \n",
    "  \n",
    "  # collect the patches\n",
    "  while patch_cnt < num_patches and try_cnt < max_tries:\n",
    "    try_cnt += 1  # number of total patches attempted\n",
    "\n",
    "    if (try_cnt - img_first_try) > max_tries/5 or \\\n",
    "      (patch_cnt - img_first_patch) > num_patches/5:\n",
    "      # change the image sampled from\n",
    "      nat_img_cnt += 1\n",
    "      image = PIL.Image.open('natural_color/' + str(nat_img_cnt) + '.tiff')\n",
    "      \n",
    "      image = np.asarray(image, 'double').transpose() \n",
    "      image = image[0:3,:,:]\n",
    "      \n",
    "      \n",
    "      \n",
    "      image -= image.mean()\n",
    "      image /= image.std()\n",
    "      \n",
    "      img_first_patch = patch_cnt\n",
    "      img_first_try = try_cnt\n",
    "    \n",
    "      # update on every switch of images\n",
    "      print (int(100 * float(patch_cnt)/num_patches),' percent complete')\n",
    "    \n",
    "    px = np.random.randint(0,image_width - patch_width)\n",
    "    py = np.random.randint(0,image_width - patch_width)\n",
    "        \n",
    "    patch_sample = image[:,px:px+patch_width,py:py+patch_width].copy()\n",
    "    \n",
    "    patch_std = patch_sample.std()\n",
    "    \n",
    "    if patch_std > 0.0: # > 0 to remove blank/uninteresting patches for speed\n",
    "      # create the patch vector     \n",
    "      patch = np.reshape(patch_sample, num_pixels)   \n",
    "      patch = patch - np.mean(patch)         \n",
    "      img_patches[:,patch_cnt] = patch.copy()\n",
    "      patch_cnt += 1\n",
    "  return img_patches\n",
    "        \n",
    "patches_mat = collect_natural_patches(num_patches = 1000, patch_width = 8)\n",
    "print('\\nshape of the extracted image patch data:', patches_mat.shape)"
   ]
  },
  {
   "cell_type": "code",
   "execution_count": 13,
   "metadata": {},
   "outputs": [
    {
     "data": {
      "image/png": "[encoded data removed]",
      "text/plain": [
       "<matplotlib.figure.Figure at 0x1cff9db1f98>"
      ]
     },
     "metadata": {},
     "output_type": "display_data"
    }
   ],
   "source": [
    "def show_patches_mat(pre_patches, show_patch_num = 16, display=True):\n",
    "  \"\"\" this function generates a 2D array to display image patches (assuming square) \"\"\"\n",
    "  \n",
    "  patches = pre_patches\n",
    "    \n",
    "  tot_patches = patches.shape[1]\n",
    "  data_dim = patches.shape[0]\n",
    "  patch_width = 8\n",
    "  \n",
    "  # extract show_patch_num patches\n",
    "  disp_patch = np.zeros([data_dim, show_patch_num], float)\n",
    "  for i in range(0,show_patch_num):\n",
    "    patch_i = i * tot_patches // show_patch_num\n",
    "  \n",
    "    patch = patches[:,patch_i].copy()\n",
    "    pmax  = patch.max()\n",
    "    pmin = patch.min()\n",
    "    # fix patch range from min to max to 0 to 1\n",
    "    if pmax > pmin: \n",
    "      patch = (patch - pmin) / (pmax - pmin)\n",
    "    disp_patch[:,i] = patch.copy()\n",
    "\n",
    "  bw = 5    # border width\n",
    "  pw = patch_width\n",
    "  \n",
    "  patches_y = int(np.sqrt(show_patch_num))\n",
    "  patches_x = int(np.ceil(float(show_patch_num) / patches_y))\n",
    "  patch_img = disp_patch.max() * np.ones([3,(pw + bw) * patches_x - bw,\n",
    "    patches_y * (pw + bw) - bw], float)\n",
    "  for i in range(0,show_patch_num): \n",
    "    y_i = i // patches_y\n",
    "    x_i = i % patches_y\n",
    "\n",
    "    reshaped = disp_patch[:,i].reshape((3,8,8))\n",
    "    full_patch = np.zeros([3, pw, pw], float)\n",
    "    full_patch[0:3,0:8,0:8] = reshaped[:,:,:].copy()\n",
    "    patch_img[:,x_i*(pw+bw):x_i*(pw+bw)+pw,y_i*(pw+bw):y_i*(pw+bw)+pw] = full_patch\n",
    "  \n",
    "  if display:\n",
    "    \n",
    "    py.imshow(patch_img[:,:,:].T, interpolation='nearest')\n",
    "    py.axis('off')\n",
    "  return\n",
    "\n",
    "show_patches_mat(patches_mat)"
   ]
  },
  {
   "cell_type": "markdown",
   "metadata": {},
   "source": [
    "#  C. Video"
   ]
  },
  {
   "cell_type": "code",
   "execution_count": null,
   "metadata": {},
   "outputs": [],
   "source": []
  },
  {
   "cell_type": "markdown",
   "metadata": {},
   "source": [
    "#  D. Audio"
   ]
  },
  {
   "cell_type": "code",
   "execution_count": null,
   "metadata": {},
   "outputs": [],
   "source": []
  },
  {
   "cell_type": "markdown",
   "metadata": {},
   "source": [
    "#  Part Two: Running the ICA Algorithm"
   ]
  },
  {
   "cell_type": "code",
   "execution_count": 6,
   "metadata": {},
   "outputs": [
    {
     "name": "stdout",
     "output_type": "stream",
     "text": [
      "Quality of image representation using only 40% as much data per patch \n",
      "(using only responses along these 25 components instead of the full 64 dimensions): \n",
      " 90.48945629008337 %\n",
      "\n",
      "Percentage of data explained by each filter:\n",
      " [19.39538787 17.3399331   7.38134423  6.4131035   6.0422083   3.76478277\n",
      "  3.38838911  3.09540276  2.78210511  2.37790018  1.99047871  1.96575749\n",
      "  1.70467261  1.59608233  1.49292561  1.39246475  1.2004232   1.16057496\n",
      "  1.06557715  0.92692289  0.91733323  0.89624568  0.79476117  0.7192871\n",
      "  0.68539248]\n"
     ]
    },
    {
     "data": {
      "image/png": "[encoded data removed]",
      "text/plain": [
       "<matplotlib.figure.Figure at 0x159315a5d68>"
      ]
     },
     "metadata": {},
     "output_type": "display_data"
    }
   ],
   "source": [
    "#run the code (for grayscale, color, etc.) that the algorithm is being applied to before running this chunk\n",
    "\n",
    "\n",
    "pcatemp = sklearn.decomposition.PCA(n_components=25)\n",
    "pcafit = pcatemp.fit(np.transpose(patches_mat))\n",
    "\n",
    "print('Quality of image representation using only 40% as much data per patch',\n",
    "      '\\n(using only responses along these 25 components instead of the full 64 dimensions):',\n",
    "      '\\n',np.sum(100*pcafit.explained_variance_ratio_),'%')\n",
    "\n",
    "print('\\nPercentage of data explained by each filter:\\n',100*pcafit.explained_variance_ratio_)\n",
    "\n",
    "pca_comp = pcafit.components_\n",
    "show_patches_mat(np.transpose(pca_comp), 25)"
   ]
  },
  {
   "cell_type": "markdown",
   "metadata": {},
   "source": [
    "#  Part Three: Examples vs. Non-examples"
   ]
  },
  {
   "cell_type": "markdown",
   "metadata": {},
   "source": [
    "# Natural vs. Unnatural"
   ]
  },
  {
   "cell_type": "code",
   "execution_count": 6,
   "metadata": {},
   "outputs": [
    {
     "name": "stdout",
     "output_type": "stream",
     "text": [
      "20  percent complete\n"
     ]
    },
    {
     "name": "stderr",
     "output_type": "stream",
     "text": [
      "C:\\Users\\Zach Barrett\\Anaconda3\\lib\\site-packages\\numpy\\core\\_methods.py:135: RuntimeWarning: Degrees of freedom <= 0 for slice\n",
      "  keepdims=keepdims)\n",
      "C:\\Users\\Zach Barrett\\Anaconda3\\lib\\site-packages\\numpy\\core\\_methods.py:105: RuntimeWarning: invalid value encountered in true_divide\n",
      "  arrmean, rcount, out=arrmean, casting='unsafe', subok=False)\n",
      "C:\\Users\\Zach Barrett\\Anaconda3\\lib\\site-packages\\numpy\\core\\_methods.py:127: RuntimeWarning: invalid value encountered in double_scalars\n",
      "  ret = ret.dtype.type(ret / rcount)\n"
     ]
    },
    {
     "ename": "ValueError",
     "evalue": "cannot reshape array of size 2048 into shape (64,)",
     "output_type": "error",
     "traceback": [
      "\u001b[1;31m---------------------------------------------------------------------------\u001b[0m",
      "\u001b[1;31mValueError\u001b[0m                                Traceback (most recent call last)",
      "\u001b[1;32m<ipython-input-6-f49d337b0cab>\u001b[0m in \u001b[0;36m<module>\u001b[1;34m()\u001b[0m\n\u001b[0;32m     62\u001b[0m   \u001b[1;32mreturn\u001b[0m \u001b[0mimg_patches\u001b[0m\u001b[1;33m\u001b[0m\u001b[0m\n\u001b[0;32m     63\u001b[0m \u001b[1;33m\u001b[0m\u001b[0m\n\u001b[1;32m---> 64\u001b[1;33m \u001b[0mpatches_mat\u001b[0m \u001b[1;33m=\u001b[0m \u001b[0mcollect_natural_patches\u001b[0m\u001b[1;33m(\u001b[0m\u001b[0mnum_patches\u001b[0m \u001b[1;33m=\u001b[0m \u001b[1;36m100000\u001b[0m\u001b[1;33m,\u001b[0m \u001b[0mpatch_width\u001b[0m \u001b[1;33m=\u001b[0m \u001b[1;36m8\u001b[0m\u001b[1;33m)\u001b[0m\u001b[1;33m\u001b[0m\u001b[0m\n\u001b[0m\u001b[0;32m     65\u001b[0m \u001b[0mprint\u001b[0m\u001b[1;33m(\u001b[0m\u001b[1;34m'\\nshape of the extracted image patch data:'\u001b[0m\u001b[1;33m,\u001b[0m \u001b[0mpatches_mat\u001b[0m\u001b[1;33m.\u001b[0m\u001b[0mshape\u001b[0m\u001b[1;33m)\u001b[0m\u001b[1;33m\u001b[0m\u001b[0m\n",
      "\u001b[1;32m<ipython-input-6-f49d337b0cab>\u001b[0m in \u001b[0;36mcollect_natural_patches\u001b[1;34m(num_patches, patch_width)\u001b[0m\n\u001b[0;32m     56\u001b[0m     \u001b[1;32mif\u001b[0m \u001b[0mpatch_std\u001b[0m \u001b[1;33m>\u001b[0m \u001b[1;36m0.0\u001b[0m\u001b[1;33m:\u001b[0m \u001b[1;31m# > 0 to remove blank/uninteresting patches for speed\u001b[0m\u001b[1;33m\u001b[0m\u001b[0m\n\u001b[0;32m     57\u001b[0m       \u001b[1;31m# create the patch vector\u001b[0m\u001b[1;33m\u001b[0m\u001b[1;33m\u001b[0m\u001b[0m\n\u001b[1;32m---> 58\u001b[1;33m       \u001b[0mpatch\u001b[0m \u001b[1;33m=\u001b[0m \u001b[0mnp\u001b[0m\u001b[1;33m.\u001b[0m\u001b[0mreshape\u001b[0m\u001b[1;33m(\u001b[0m\u001b[0mpatch_sample\u001b[0m\u001b[1;33m,\u001b[0m \u001b[0mnum_pixels\u001b[0m\u001b[1;33m)\u001b[0m\u001b[1;33m\u001b[0m\u001b[0m\n\u001b[0m\u001b[0;32m     59\u001b[0m       \u001b[0mpatch\u001b[0m \u001b[1;33m=\u001b[0m \u001b[0mpatch\u001b[0m \u001b[1;33m-\u001b[0m \u001b[0mnp\u001b[0m\u001b[1;33m.\u001b[0m\u001b[0mmean\u001b[0m\u001b[1;33m(\u001b[0m\u001b[0mpatch\u001b[0m\u001b[1;33m)\u001b[0m\u001b[1;33m\u001b[0m\u001b[0m\n\u001b[0;32m     60\u001b[0m       \u001b[0mimg_patches\u001b[0m\u001b[1;33m[\u001b[0m\u001b[1;33m:\u001b[0m\u001b[1;33m,\u001b[0m\u001b[0mpatch_cnt\u001b[0m\u001b[1;33m]\u001b[0m \u001b[1;33m=\u001b[0m \u001b[0mpatch\u001b[0m\u001b[1;33m.\u001b[0m\u001b[0mcopy\u001b[0m\u001b[1;33m(\u001b[0m\u001b[1;33m)\u001b[0m\u001b[1;33m\u001b[0m\u001b[0m\n",
      "\u001b[1;32m~\\Anaconda3\\lib\\site-packages\\numpy\\core\\fromnumeric.py\u001b[0m in \u001b[0;36mreshape\u001b[1;34m(a, newshape, order)\u001b[0m\n\u001b[0;32m    255\u001b[0m            [5, 6]])\n\u001b[0;32m    256\u001b[0m     \"\"\"\n\u001b[1;32m--> 257\u001b[1;33m     \u001b[1;32mreturn\u001b[0m \u001b[0m_wrapfunc\u001b[0m\u001b[1;33m(\u001b[0m\u001b[0ma\u001b[0m\u001b[1;33m,\u001b[0m \u001b[1;34m'reshape'\u001b[0m\u001b[1;33m,\u001b[0m \u001b[0mnewshape\u001b[0m\u001b[1;33m,\u001b[0m \u001b[0morder\u001b[0m\u001b[1;33m=\u001b[0m\u001b[0morder\u001b[0m\u001b[1;33m)\u001b[0m\u001b[1;33m\u001b[0m\u001b[0m\n\u001b[0m\u001b[0;32m    258\u001b[0m \u001b[1;33m\u001b[0m\u001b[0m\n\u001b[0;32m    259\u001b[0m \u001b[1;33m\u001b[0m\u001b[0m\n",
      "\u001b[1;32m~\\Anaconda3\\lib\\site-packages\\numpy\\core\\fromnumeric.py\u001b[0m in \u001b[0;36m_wrapfunc\u001b[1;34m(obj, method, *args, **kwds)\u001b[0m\n\u001b[0;32m     50\u001b[0m \u001b[1;32mdef\u001b[0m \u001b[0m_wrapfunc\u001b[0m\u001b[1;33m(\u001b[0m\u001b[0mobj\u001b[0m\u001b[1;33m,\u001b[0m \u001b[0mmethod\u001b[0m\u001b[1;33m,\u001b[0m \u001b[1;33m*\u001b[0m\u001b[0margs\u001b[0m\u001b[1;33m,\u001b[0m \u001b[1;33m**\u001b[0m\u001b[0mkwds\u001b[0m\u001b[1;33m)\u001b[0m\u001b[1;33m:\u001b[0m\u001b[1;33m\u001b[0m\u001b[0m\n\u001b[0;32m     51\u001b[0m     \u001b[1;32mtry\u001b[0m\u001b[1;33m:\u001b[0m\u001b[1;33m\u001b[0m\u001b[0m\n\u001b[1;32m---> 52\u001b[1;33m         \u001b[1;32mreturn\u001b[0m \u001b[0mgetattr\u001b[0m\u001b[1;33m(\u001b[0m\u001b[0mobj\u001b[0m\u001b[1;33m,\u001b[0m \u001b[0mmethod\u001b[0m\u001b[1;33m)\u001b[0m\u001b[1;33m(\u001b[0m\u001b[1;33m*\u001b[0m\u001b[0margs\u001b[0m\u001b[1;33m,\u001b[0m \u001b[1;33m**\u001b[0m\u001b[0mkwds\u001b[0m\u001b[1;33m)\u001b[0m\u001b[1;33m\u001b[0m\u001b[0m\n\u001b[0m\u001b[0;32m     53\u001b[0m \u001b[1;33m\u001b[0m\u001b[0m\n\u001b[0;32m     54\u001b[0m     \u001b[1;31m# An AttributeError occurs if the object does not have\u001b[0m\u001b[1;33m\u001b[0m\u001b[1;33m\u001b[0m\u001b[0m\n",
      "\u001b[1;31mValueError\u001b[0m: cannot reshape array of size 2048 into shape (64,)"
     ]
    }
   ],
   "source": [
    "#The following code is the same code as above but it is using unnatural grayscale images\n",
    "\n",
    "def collect_natural_patches(num_patches = 100000, patch_width = 8):\n",
    "  \"\"\" collects image patches\n",
    "  the natural images are from a specific folder of 13 .tiff files\"\"\"\n",
    "\n",
    "  max_tries = num_patches * 50\n",
    "  image_width = 200\n",
    "  \n",
    "  img_first_patch = 0 # the first patch number accepted from an image\n",
    "  img_first_try = 0 # the first attempt to take a patch from the image\n",
    "  patch_cnt = 0 # number of collected patches\n",
    "  try_cnt = 0 # number of attempted collected patches\n",
    "  num_pixels = patch_width * patch_width\n",
    "\n",
    "  patch_sample = np.zeros([patch_width,patch_width],float)\n",
    "  patch = np.zeros([num_pixels,1],float)\n",
    "  \n",
    "  img_patches = np.zeros([num_pixels,num_patches],float)\n",
    "\n",
    "  # change the image sampled from\n",
    "  nat_img_cnt = 1  \n",
    "  image = PIL.Image.open('unnatural_images_grayscale/' + str(nat_img_cnt) + '.tiff')\n",
    "  image = image.convert('L')\n",
    "  image = np.asarray(image, 'double').transpose()  \n",
    "\n",
    "  # normalizing the image\n",
    "  image -= image.mean()\n",
    "  image /= image.std()\n",
    "      \n",
    "  # collect the patches\n",
    "  while patch_cnt < num_patches and try_cnt < max_tries:\n",
    "    try_cnt += 1  # number of total patches attempted\n",
    "\n",
    "    if (try_cnt - img_first_try) > max_tries/5 or \\\n",
    "      (patch_cnt - img_first_patch) > num_patches/5:\n",
    "      # change the image sampled from\n",
    "      nat_img_cnt += 1\n",
    "      image = PIL.Image.open('unnatural_images_grayscale/' + str(nat_img_cnt) + '.tiff')\n",
    "      image = np.asarray(image, 'double').transpose()        \n",
    "      # normalizing the image\n",
    "      image -= image.mean()\n",
    "      image /= image.std()\n",
    "      \n",
    "      img_first_patch = patch_cnt\n",
    "      img_first_try = try_cnt\n",
    "    \n",
    "      # update on every switch of images\n",
    "      print (int(100 * float(patch_cnt)/num_patches),' percent complete')\n",
    "    \n",
    "    px = np.random.randint(0,image_width - patch_width)\n",
    "    py = np.random.randint(0,image_width - patch_width)\n",
    "        \n",
    "    patch_sample = image[px:px+patch_width,py:py+patch_width].copy()\n",
    "    patch_std = patch_sample.std()\n",
    "    \n",
    "    if patch_std > 0.0: # > 0 to remove blank/uninteresting patches for speed\n",
    "      # create the patch vector     \n",
    "      patch = np.reshape(patch_sample, num_pixels)     \n",
    "      patch = patch - np.mean(patch)         \n",
    "      img_patches[:,patch_cnt] = patch.copy()\n",
    "      patch_cnt += 1\n",
    "  return img_patches\n",
    "        \n",
    "patches_mat = collect_natural_patches(num_patches = 100000, patch_width = 8)\n",
    "print('\\nshape of the extracted image patch data:', patches_mat.shape)"
   ]
  },
  {
   "cell_type": "code",
   "execution_count": null,
   "metadata": {},
   "outputs": [],
   "source": [
    "def show_patches_mat(pre_patches, show_patch_num = 16, display=True):\n",
    "  \"\"\" this function generates a 2D array to display image patches (assuming square) \"\"\"\n",
    "  \n",
    "  patches = pre_patches\n",
    "    \n",
    "  tot_patches = patches.shape[1]\n",
    "  data_dim = patches.shape[0]\n",
    "  patch_width = int(np.round(np.sqrt(data_dim)))\n",
    "  \n",
    "  # extract show_patch_num patches\n",
    "  disp_patch = np.zeros([data_dim, show_patch_num], float)\n",
    "  for i in range(0,show_patch_num):\n",
    "    patch_i = i * tot_patches // show_patch_num\n",
    "  \n",
    "    patch = patches[:,patch_i].copy()\n",
    "    pmax  = patch.max()\n",
    "    pmin = patch.min()\n",
    "    # fix patch range from min to max to 0 to 1\n",
    "    if pmax > pmin: \n",
    "      patch = (patch - pmin) / (pmax - pmin)\n",
    "    disp_patch[:,i] = patch.copy()\n",
    "\n",
    "  bw = 5    # border width\n",
    "  pw = patch_width\n",
    "  \n",
    "  patches_y = int(np.sqrt(show_patch_num))\n",
    "  patches_x = int(np.ceil(float(show_patch_num) / patches_y))\n",
    "  patch_img = disp_patch.max() * np.ones([(pw + bw) * patches_x - bw,\n",
    "    patches_y * (pw + bw) - bw], float)\n",
    "  for i in range(0,show_patch_num): \n",
    "    y_i = i // patches_y\n",
    "    x_i = i % patches_y\n",
    "\n",
    "    reshaped = disp_patch[:,i].reshape((pw,pw))\n",
    "    full_patch = np.zeros([pw, pw], float)\n",
    "    full_patch[0:pw,:] = reshaped[:,:].copy()\n",
    "    patch_img[x_i*(pw+bw):x_i*(pw+bw)+pw,y_i*(pw+bw):y_i*(pw+bw)+pw] = full_patch\n",
    "  \n",
    "  if display:\n",
    "    py.bone()\n",
    "    py.imshow(patch_img.T, interpolation='nearest')\n",
    "    py.axis('off')\n",
    "  return\n",
    "\n",
    "show_patches_mat(patches_mat)"
   ]
  },
  {
   "cell_type": "code",
   "execution_count": null,
   "metadata": {},
   "outputs": [],
   "source": [
    "#ICA Algorithm\n",
    "\n",
    "pcatemp = sklearn.decomposition.PCA(n_components=25)\n",
    "pcafit = pcatemp.fit(np.transpose(patches_mat))\n",
    "\n",
    "print('Quality of image representation using only 40% as much data per patch',\n",
    "      '\\n(using only responses along these 25 components instead of the full 64 dimensions):',\n",
    "      '\\n',np.sum(100*pcafit.explained_variance_ratio_),'%')\n",
    "\n",
    "print('\\nPercentage of data explained by each filter:\\n',100*pcafit.explained_variance_ratio_)\n",
    "\n",
    "pca_comp = pcafit.components_\n",
    "show_patches_mat(np.transpose(pca_comp), 25)"
   ]
  }
 ],
 "metadata": {
  "kernelspec": {
   "display_name": "Python 3",
   "language": "python",
   "name": "python3"
  },
  "language_info": {
   "codemirror_mode": {
    "name": "ipython",
    "version": 3
   },
   "file_extension": ".py",
   "mimetype": "text/x-python",
   "name": "python",
   "nbconvert_exporter": "python",
   "pygments_lexer": "ipython3",
   "version": "3.6.4"
  }
 },
 "nbformat": 4,
 "nbformat_minor": 2
}
