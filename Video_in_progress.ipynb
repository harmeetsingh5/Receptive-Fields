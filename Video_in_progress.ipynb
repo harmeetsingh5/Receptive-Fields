{
 "cells": [
  {
   "cell_type": "code",
   "execution_count": 6,
   "metadata": {},
   "outputs": [],
   "source": [
    "import PIL.Image\n",
    "import numpy as np\n",
    "import pylab as py\n",
    "import cv2\n",
    "from PIL import Image\n",
    "import sklearn.decomposition\n",
    "\n",
    "#change n components less than 768 --30"
   ]
  },
  {
   "cell_type": "code",
   "execution_count": 7,
   "metadata": {},
   "outputs": [],
   "source": [
    "#grabs frames\n",
    "vidcap = cv2.VideoCapture('bw_nature.avi')\n",
    "success,image = vidcap.read()\n",
    "count = 1\n",
    "success = True\n",
    "while success:\n",
    "  cv2.imwrite(\"Video_images/%d.jpg\" % count, image)    \n",
    "  img = Image.open(\"Video_images/%d.jpg\" % count)\n",
    "  img = img.resize((512,256))\n",
    "  img = img.convert('L')\n",
    "  img.save(\"Video_images/%d.jpg\" % count, optimize=True)\n",
    "  success, image = vidcap.read()\n",
    "  count += 1\n",
    "  if(count > 12):\n",
    "      break  "
   ]
  },
  {
   "cell_type": "code",
   "execution_count": 8,
   "metadata": {},
   "outputs": [
    {
     "name": "stdout",
     "output_type": "stream",
     "text": [
      "8  percent complete\n",
      "16  percent complete\n",
      "25  percent complete\n",
      "33  percent complete\n",
      "41  percent complete\n",
      "50  percent complete\n",
      "58  percent complete\n",
      "66  percent complete\n",
      "75  percent complete\n",
      "83  percent complete\n",
      "91  percent complete\n",
      "\n",
      "shape of the extracted image patch data: (64, 100000)\n"
     ]
    }
   ],
   "source": [
    "def collect_natural_patches(num_patches = 1000000, patch_width = 8):\n",
    "  \"\"\" collects image patches\n",
    "  the natural images are from a specific folder of 13 .tiff files\"\"\"\n",
    "\n",
    "  max_tries = num_patches * 50\n",
    "  image_width = 200\n",
    "  \n",
    "  img_first_patch = 0 # the first patch number accepted from an image\n",
    "  img_first_try = 0 # the first attempt to take a patch from the image\n",
    "  patch_cnt = 0 # number of collected patches\n",
    "  try_cnt = 0 # number of attempted collected patches\n",
    "  num_pixels = patch_width * patch_width \n",
    "\n",
    "  patch_sample = np.zeros([12,patch_width,patch_width],float)\n",
    "  patch = np.zeros([num_pixels,num_patches],float)\n",
    "  \n",
    "  img_patches = np.zeros([num_pixels,num_patches],float)\n",
    "\n",
    "  # change the image sampled from\n",
    "  nat_img_cnt = 1  \n",
    "  image = PIL.Image.open('Video_images/' + str(nat_img_cnt) + '.jpg')\n",
    "  image = np.asarray(image, 'double').transpose()  \n",
    "  # normalizing the image\n",
    "  image -= image.mean()\n",
    "  image /= image.std()\n",
    "      \n",
    "  # collect the patches\n",
    "  while patch_cnt < num_patches and try_cnt < max_tries:\n",
    "    try_cnt += 1  # number of total patches attempted\n",
    "\n",
    "    if (try_cnt - img_first_try) > max_tries/12 or \\\n",
    "      (patch_cnt - img_first_patch) > num_patches/12:\n",
    "      # change the image sampled from\n",
    "      nat_img_cnt += 1\n",
    "      image = PIL.Image.open('Video_images/' + str(nat_img_cnt) + '.jpg')\n",
    "      image = np.asarray(image, 'double').transpose() \n",
    "      image -= image.mean()\n",
    "      image /= image.std()\n",
    "      \n",
    "      img_first_patch = patch_cnt\n",
    "      img_first_try = try_cnt\n",
    "    \n",
    "      # update on every switch of images\n",
    "      print (int(100 * float(patch_cnt)/num_patches),' percent complete')\n",
    "\n",
    "        \n",
    "    patch_sample = image[10:10+patch_width,10:10+patch_width].copy()\n",
    "    #line that calls for same patch over time for testing\n",
    "    patch_std = patch_sample.std()\n",
    "    \n",
    "    if patch_std > 0.0: # > 0 to remove blank/uninteresting patches for speed\n",
    "      # create the patch vector     \n",
    "      patch = np.reshape(patch_sample, num_pixels)   \n",
    "      patch = patch - np.mean(patch)         \n",
    "      img_patches[:,patch_cnt] = patch.copy()\n",
    "      patch_cnt += 1\n",
    "  return img_patches\n",
    "        \n",
    "patches_mat = collect_natural_patches(num_patches = 100000, patch_width = 8)\n",
    "print('\\nshape of the extracted image patch data:', patches_mat.shape)"
   ]
  },
  {
   "cell_type": "code",
   "execution_count": 4,
   "metadata": {
    "scrolled": true
   },
   "outputs": [
    {
     "data": {
      "image/png": "[encoded data removed]",
      "text/plain": [
       "<matplotlib.figure.Figure at 0x207f52d52e8>"
      ]
     },
     "metadata": {},
     "output_type": "display_data"
    }
   ],
   "source": [
    "def show_patches_mat(pre_patches, show_patch_num = 16, display=True):\n",
    "  \"\"\" this function generates a 2D array to display image patches (assuming square) \"\"\"\n",
    "  \n",
    "  patches = pre_patches\n",
    "    \n",
    "  tot_patches = patches.shape[1]\n",
    "  data_dim = patches.shape[0]\n",
    "  patch_width = int(np.round(np.sqrt(data_dim)))\n",
    "  \n",
    "  # extract show_patch_num patches\n",
    "  disp_patch = np.zeros([data_dim, show_patch_num,6], float)\n",
    "  for i in range(0,show_patch_num):\n",
    "    patch_i = i * tot_patches // show_patch_num\n",
    "  \n",
    "    patch = patches[:,patch_i].copy()\n",
    "    pmax  = patch.max()\n",
    "    pmin = patch.min()\n",
    "    # fix patch range from min to max to 0 to 1\n",
    "    if pmax > pmin: \n",
    "      patch = (patch - pmin) / (pmax - pmin)\n",
    "    disp_patch[:,i,:] = patch.copy()\n",
    "\n",
    "  bw = 5    # border width\n",
    "  pw = patch_width\n",
    "  \n",
    "  patches_y = int(np.sqrt(show_patch_num))\n",
    "  patches_x = int(np.ceil(float(show_patch_num) / patches_y))\n",
    "  patch_img = disp_patch.max() * np.ones([(pw + bw) * patches_x - bw,\n",
    "    patches_y * (pw + bw) - bw], float)\n",
    "  for i in range(0,show_patch_num): \n",
    "    y_i = i // patches_y\n",
    "    x_i = i % patches_y\n",
    "\n",
    "    reshaped = disp_patch[:,i,:].reshape((pw,pw))\n",
    "    full_patch = np.zeros([pw, pw,6], float)\n",
    "    full_patch[0:pw,:] = reshaped[:,:,:].copy()\n",
    "    patch_img[x_i*(pw+bw):x_i*(pw+bw)+pw,y_i*(pw+bw):y_i*(pw+bw)+pw] = full_patch\n",
    "    \n",
    "    if display:\n",
    "        py.bone()\n",
    "        py.imshow(patch_img.T, interpolation='nearest')\n",
    "        py.axis('off')\n",
    "  return\n",
    "\n",
    "show_patches_mat(patches_mat)"
   ]
  },
  {
   "cell_type": "code",
   "execution_count": 9,
   "metadata": {
    "scrolled": true
   },
   "outputs": [
    {
     "name": "stdout",
     "output_type": "stream",
     "text": [
      "Quality of image representation using only 40% as much data per patch \n",
      "(using only responses along these 25 components instead of the full 64 dimensions): \n",
      " 100.00000000000091 %\n",
      "\n",
      "Percentage of data explained by each filter:\n",
      " [8.79344610e+01 9.30042062e+00 1.09436041e+00 7.19793008e-01\n",
      " 4.53704674e-01 2.22805886e-01 1.62499750e-01 8.39882044e-02\n",
      " 2.79662707e-02 1.44527193e-07 9.75796180e-29 6.97904950e-29\n",
      " 4.31057349e-29 1.20729071e-29 6.33016852e-30 1.25590116e-30\n",
      " 8.77939491e-31 8.77939491e-31 8.77939491e-31 8.77939491e-31\n",
      " 8.77939491e-31 8.77939491e-31 8.77939491e-31 8.77939491e-31\n",
      " 8.77939491e-31]\n"
     ]
    },
    {
     "data": {
      "image/png": "[encoded data removed]",
      "text/plain": [
       "<matplotlib.figure.Figure at 0x207f2dc6208>"
      ]
     },
     "metadata": {},
     "output_type": "display_data"
    }
   ],
   "source": [
    "pcatemp = sklearn.decomposition.PCA(n_components=25)\n",
    "pcafit = pcatemp.fit(np.transpose(patches_mat))\n",
    "\n",
    "print('Quality of image representation using only 40% as much data per patch',\n",
    "      '\\n(using only responses along these 25 components instead of the full 64 dimensions):',\n",
    "      '\\n',np.sum(100*pcafit.explained_variance_ratio_),'%')\n",
    "\n",
    "print('\\nPercentage of data explained by each filter:\\n',100*pcafit.explained_variance_ratio_)\n",
    "\n",
    "pca_comp = pcafit.components_\n",
    "show_patches_mat(np.transpose(pca_comp), 16)"
   ]
  },
  {
   "cell_type": "code",
   "execution_count": null,
   "metadata": {},
   "outputs": [],
   "source": []
  }
 ],
 "metadata": {
  "kernelspec": {
   "display_name": "Python 3",
   "language": "python",
   "name": "python3"
  },
  "language_info": {
   "codemirror_mode": {
    "name": "ipython",
    "version": 3
   },
   "file_extension": ".py",
   "mimetype": "text/x-python",
   "name": "python",
   "nbconvert_exporter": "python",
   "pygments_lexer": "ipython3",
   "version": "3.6.4"
  }
 },
 "nbformat": 4,
 "nbformat_minor": 2
}
